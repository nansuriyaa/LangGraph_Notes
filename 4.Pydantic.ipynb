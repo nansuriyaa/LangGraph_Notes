{
 "cells": [
  {
   "cell_type": "markdown",
   "id": "16db3824",
   "metadata": {},
   "source": [
    "### Pydantic Data Validation"
   ]
  },
  {
   "cell_type": "code",
   "execution_count": 19,
   "id": "bee8027c",
   "metadata": {},
   "outputs": [],
   "source": [
    "from langgraph.graph import StateGraph,START,END\n",
    "from pydantic import BaseModel"
   ]
  },
  {
   "cell_type": "code",
   "execution_count": 20,
   "id": "f4bb1ead",
   "metadata": {},
   "outputs": [],
   "source": [
    "class State(BaseModel):\n",
    "    name: str"
   ]
  },
  {
   "cell_type": "code",
   "execution_count": 21,
   "id": "913acf9b",
   "metadata": {},
   "outputs": [],
   "source": [
    "def example_node(state: State):\n",
    "    return {\"name\": \"Hello World!\"}"
   ]
  },
  {
   "cell_type": "code",
   "execution_count": 22,
   "id": "90893ab4",
   "metadata": {},
   "outputs": [],
   "source": [
    "builder = StateGraph(State)\n",
    "builder.add_node(\"example_node\", example_node)\n",
    "builder.add_edge(START, \"example_node\")\n",
    "builder.add_edge(\"example_node\", END)\n",
    "graph = builder.compile()"
   ]
  },
  {
   "cell_type": "code",
   "execution_count": 23,
   "id": "46cc3fec",
   "metadata": {},
   "outputs": [
    {
     "data": {
      "text/plain": [
       "{'name': 'Hello World!'}"
      ]
     },
     "execution_count": 23,
     "metadata": {},
     "output_type": "execute_result"
    }
   ],
   "source": [
    "graph.invoke({\"name\": \"Suriyaa\"})"
   ]
  }
 ],
 "metadata": {
  "kernelspec": {
   "display_name": "venv",
   "language": "python",
   "name": "python3"
  },
  "language_info": {
   "codemirror_mode": {
    "name": "ipython",
    "version": 3
   },
   "file_extension": ".py",
   "mimetype": "text/x-python",
   "name": "python",
   "nbconvert_exporter": "python",
   "pygments_lexer": "ipython3",
   "version": "3.13.1"
  }
 },
 "nbformat": 4,
 "nbformat_minor": 5
}
