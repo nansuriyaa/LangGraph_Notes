{
 "cells": [
  {
   "cell_type": "code",
   "execution_count": 106,
   "id": "b0db81c9",
   "metadata": {},
   "outputs": [
    {
     "data": {
      "text/plain": [
       "True"
      ]
     },
     "execution_count": 106,
     "metadata": {},
     "output_type": "execute_result"
    }
   ],
   "source": [
    "import os\n",
    "from dotenv import load_dotenv\n",
    "\n",
    "load_dotenv(override=True)"
   ]
  },
  {
   "cell_type": "code",
   "execution_count": 108,
   "id": "1e2f3bb2",
   "metadata": {},
   "outputs": [
    {
     "name": "stdout",
     "output_type": "stream",
     "text": [
      "postgresql\n",
      "['iron_ore_blocks']\n",
      "\n",
      "CREATE TABLE iron_ore_blocks (\n",
      "\t\"sl._no\" BIGINT, \n",
      "\tstate TEXT, \n",
      "\tblock_name TEXT, \n",
      "\tgreenfield_or_brownfield TEXT, \n",
      "\tstatus_of_blocks TEXT, \n",
      "\ttype_of_block TEXT, \n",
      "\tmineral TEXT, \n",
      "\tname_of_bidder TEXT, \n",
      "\tlease_area DOUBLE PRECISION, \n",
      "\treserve_mt TEXT, \n",
      "\tfpo DOUBLE PRECISION, \n",
      "\tdate_of_auction DATE, \n",
      "\tdate_of_loi_issuance DATE, \n",
      "\tfy_expiry TEXT\n",
      ")\n",
      "\n",
      "/*\n",
      "3 rows from iron_ore_blocks table:\n",
      "sl._no\tstate\tblock_name\tgreenfield_or_brownfield\tstatus_of_blocks\ttype_of_block\tmineral\tname_of_bidder\tlease_area\treserve_mt\tfpo\tdate_of_auction\tdate_of_loi_issuance\tfy_expiry\n",
      "1\tAndhra Pradesh\tAddankivaripalem\tGreenfield\tDeed Executed and Exploration in Progress\tCL\tIron Ore\tJSW Steel Ltd.\tNone\tNone\t14.4\t2023-07-28\t2023-05-09\t2024-25\n",
      "2\tMaharashtra\tAjgaon Block\tGreenfield\tDeed Executed and Exploration in Progress\tCL\tIron Ore\tJSW Steel Ltd.\t8.4\tNone\t25.0\t2022-03-31\tNone\t2023-24\n",
      "3\tOrissa\tBadampahar Iron Ore Block\tBrownfield\tOperationalised\tML\tIron Ore\tGM Iron & Steel Company Ltd\t129.61\t4.484\t95.15\t2020-07-01\tNone\t2025-26\n",
      "*/\n"
     ]
    },
    {
     "data": {
      "text/plain": [
       "\"[(1, 'Andhra Pradesh', 'Addankivaripalem', 'Greenfield', 'Deed Executed and Exploration in Progress', 'CL', 'Iron Ore', 'JSW Steel Ltd.', None, None, 14.4, datetime.date(2023, 7, 28), datetime.date(2023, 5, 9), '2024-25'), (2, 'Maharashtra', 'Ajgaon Block', 'Greenfield', 'Deed Executed and Exploration in Progress', 'CL', 'Iron Ore', 'JSW Steel Ltd.', 8.4, None, 25.0, datetime.date(2022, 3, 31), None, '2023-24'), (3, 'Orissa', 'Badampahar Iron Ore Block', 'Brownfield', 'Operationalised', 'ML', 'Iron Ore', 'GM Iron & Steel Company Ltd', 129.61, '4.484', 95.15, datetime.date(2020, 7, 1), None, '2025-26'), (4, 'Rajasthan', 'Bagawas', 'Brownfield', 'In process of revocation', 'ML', 'Iron Ore', 'Subhash Lohiya, Propo. M/s Bharat Coal Traders, Punjab', 5.9266, '0.58', 452.0, datetime.date(2022, 7, 29), datetime.date(2023, 4, 4), '2028-29'), (5, 'Chhattisgarh', 'Bailadila Deposit 01A Iron Ore Block', 'Greenfield', 'Pending with bidder - SOP/NOC', 'CL', 'Iron Ore', 'M/s ArcelorMittal\\\\n Nippon Steel India\\\\n Pvt. Ltd.', 850.0, '55.23', 151.3, datetime.date(2025, 3, 24), None, '2026-27'), (6, 'Chhattisgarh', 'Bailadila Deposit 01B Iron Ore Block', 'Greenfield', 'Pending with bidder - SOP/NOC', 'CL', 'Iron Ore', 'M/s ArcelorMittal\\\\n Nippon Steel India\\\\n Pvt. Ltd.', 850.0, '103.25', 157.5, datetime.date(2025, 3, 26), None, '2030-31'), (7, 'Chhattisgarh', 'Bailadila Deposit 01C Iron Ore Block', 'Greenfield', 'Pending with bidder - SOP/NOC', 'CL', 'Iron Ore', 'M/s Rungta Sons\\\\n Pvt. Ltd.', 825.0, '129.93', 152.0, datetime.date(2025, 3, 27), None, '2030-31'), (8, 'Madhya Pradesh', 'Bajna Iron Ore', 'Greenfield', 'EC & FC Pendency', 'ML', 'Iron Ore', 'Sunflag Iron & Steel Company Ltd.', 96.0, '38.81', 74.05, datetime.date(2022, 7, 26), datetime.date(2022, 7, 11), '2027-28'), (9, 'Orissa', 'Balda Iron Ore Block', 'Brownfield', 'Operationalised', 'ML', 'Iron Ore', 'Serajuddin & Co.', 343.981, '200.11', 118.1, datetime.date(2020, 2, 3), datetime.date(2020, 2, 3), '2024-25'), (10, 'Jharkhand', 'Baraiburu - Tatiba Iron and Manganese Ore Block', 'Greenfield', 'FC Pendency', 'CL', 'Iron and Manganese Ore', 'M/s Rungta Mines', 258.99, 'Fe – 77.85 Mn- 3.61', None, datetime.date(2023, 8, 18), None, '2026-27')]\""
      ]
     },
     "execution_count": 108,
     "metadata": {},
     "output_type": "execute_result"
    }
   ],
   "source": [
    "from langchain_community.utilities import SQLDatabase\n",
    "\n",
    "database_url = os.getenv('DB_URL')\n",
    "\n",
    "db = SQLDatabase.from_uri(database_url)\n",
    "print(db.dialect)\n",
    "print(db.get_usable_table_names())\n",
    "print(db.get_table_info())\n",
    "db.run(\"SELECT * FROM iron_ore_blocks LIMIT 10;\")"
   ]
  },
  {
   "cell_type": "code",
   "execution_count": 109,
   "id": "5f467596",
   "metadata": {},
   "outputs": [],
   "source": [
    "from langchain_openai import ChatOpenAI\n",
    "\n",
    "llm = ChatOpenAI(\n",
    "    model='gpt-5-mini-2025-08-07'\n",
    ")"
   ]
  },
  {
   "cell_type": "code",
   "execution_count": 110,
   "id": "072bb543",
   "metadata": {},
   "outputs": [
    {
     "data": {
      "text/plain": [
       "[QuerySQLDatabaseTool(description=\"Input to this tool is a detailed and correct SQL query, output is a result from the database. If the query is not correct, an error message will be returned. If an error is returned, rewrite the query, check the query, and try again. If you encounter an issue with Unknown column 'xxxx' in 'field list', use sql_db_schema to query the correct table fields.\", db=<langchain_community.utilities.sql_database.SQLDatabase object at 0x16958a990>),\n",
       " InfoSQLDatabaseTool(description='Input to this tool is a comma-separated list of tables, output is the schema and sample rows for those tables. Be sure that the tables actually exist by calling sql_db_list_tables first! Example Input: table1, table2, table3', db=<langchain_community.utilities.sql_database.SQLDatabase object at 0x16958a990>),\n",
       " ListSQLDatabaseTool(db=<langchain_community.utilities.sql_database.SQLDatabase object at 0x16958a990>),\n",
       " QuerySQLCheckerTool(description='Use this tool to double check if your query is correct before executing it. Always use this tool before executing a query with sql_db_query!', db=<langchain_community.utilities.sql_database.SQLDatabase object at 0x16958a990>, llm=ChatOpenAI(client=<openai.resources.chat.completions.completions.Completions object at 0x169c99940>, async_client=<openai.resources.chat.completions.completions.AsyncCompletions object at 0x169c99ba0>, root_client=<openai.OpenAI object at 0x169c80320>, root_async_client=<openai.AsyncOpenAI object at 0x169c807d0>, model_name='gpt-5-mini-2025-08-07', model_kwargs={}, openai_api_key=SecretStr('**********')), llm_chain=LLMChain(verbose=False, prompt=PromptTemplate(input_variables=['dialect', 'query'], input_types={}, partial_variables={}, template='\\n{query}\\nDouble check the {dialect} query above for common mistakes, including:\\n- Using NOT IN with NULL values\\n- Using UNION when UNION ALL should have been used\\n- Using BETWEEN for exclusive ranges\\n- Data type mismatch in predicates\\n- Properly quoting identifiers\\n- Using the correct number of arguments for functions\\n- Casting to the correct data type\\n- Using the proper columns for joins\\n\\nIf there are any of the above mistakes, rewrite the query. If there are no mistakes, just reproduce the original query.\\n\\nOutput the final SQL query only.\\n\\nSQL Query: '), llm=ChatOpenAI(client=<openai.resources.chat.completions.completions.Completions object at 0x169c99940>, async_client=<openai.resources.chat.completions.completions.AsyncCompletions object at 0x169c99ba0>, root_client=<openai.OpenAI object at 0x169c80320>, root_async_client=<openai.AsyncOpenAI object at 0x169c807d0>, model_name='gpt-5-mini-2025-08-07', model_kwargs={}, openai_api_key=SecretStr('**********')), output_parser=StrOutputParser(), llm_kwargs={}))]"
      ]
     },
     "execution_count": 110,
     "metadata": {},
     "output_type": "execute_result"
    }
   ],
   "source": [
    "from langchain_community.agent_toolkits import SQLDatabaseToolkit\n",
    "\n",
    "toolkit = SQLDatabaseToolkit(db=db, llm=llm)\n",
    "\n",
    "tools = toolkit.get_tools()\n",
    "\n",
    "tools"
   ]
  },
  {
   "cell_type": "code",
   "execution_count": 111,
   "id": "00f03e44",
   "metadata": {},
   "outputs": [],
   "source": [
    "system_message = \"\"\"\n",
    "You are an agent designed to interact with a SQL database.\n",
    "Given an input question, create a syntactically correct {dialect} query to run,\n",
    "then look at the results of the query and return the answer. Unless the user\n",
    "specifies a specific number of examples they wish to obtain, always limit your\n",
    "query to at most {top_k} results.\n",
    "\n",
    "You can order the results by a relevant column to return the most interesting\n",
    "examples in the database. Never query for all the columns from a specific table,\n",
    "only ask for the relevant columns given the question.\n",
    "\n",
    "You MUST double check your query before executing it. If you get an error while\n",
    "executing a query, rewrite the query and try again.\n",
    "\n",
    "DO NOT make any DML statements (INSERT, UPDATE, DELETE, DROP etc.) to the\n",
    "database.\n",
    "\n",
    "To start you should ALWAYS look at the tables in the database to see what you\n",
    "can query. Do NOT skip this step.\n",
    "\n",
    "Then you should query the schema of the most relevant tables.\n",
    "\"\"\".format(\n",
    "    dialect=db.dialect,\n",
    "    top_k=5,\n",
    ")"
   ]
  },
  {
   "cell_type": "code",
   "execution_count": 48,
   "id": "fd0bb432",
   "metadata": {},
   "outputs": [],
   "source": [
    "from langchain_core.messages import HumanMessage\n",
    "from langgraph.prebuilt import create_react_agent\n",
    "\n",
    "agent_executor = create_react_agent(llm, tools, prompt=system_message)"
   ]
  },
  {
   "cell_type": "code",
   "execution_count": 49,
   "id": "170dd7bb",
   "metadata": {},
   "outputs": [
    {
     "name": "stdout",
     "output_type": "stream",
     "text": [
      "================================\u001b[1m Human Message \u001b[0m=================================\n",
      "\n",
      "which state has the most blocks auctioned?\n",
      "==================================\u001b[1m Ai Message \u001b[0m==================================\n",
      "Tool Calls:\n",
      "  sql_db_list_tables (call_8JgDaptiAN0xDolGJLmZAD6l)\n",
      " Call ID: call_8JgDaptiAN0xDolGJLmZAD6l\n",
      "  Args:\n",
      "    tool_input:\n",
      "=================================\u001b[1m Tool Message \u001b[0m=================================\n",
      "Name: sql_db_list_tables\n",
      "\n",
      "iron_ore_blocks\n",
      "==================================\u001b[1m Ai Message \u001b[0m==================================\n",
      "Tool Calls:\n",
      "  sql_db_schema (call_nxzbbPK875k2IIxWBs7QWprf)\n",
      " Call ID: call_nxzbbPK875k2IIxWBs7QWprf\n",
      "  Args:\n",
      "    table_names: iron_ore_blocks\n",
      "=================================\u001b[1m Tool Message \u001b[0m=================================\n",
      "Name: sql_db_schema\n",
      "\n",
      "\n",
      "CREATE TABLE iron_ore_blocks (\n",
      "\t\"sl._no\" BIGINT, \n",
      "\tstate TEXT, \n",
      "\tblock_name TEXT, \n",
      "\tgreenfield_or_brownfield TEXT, \n",
      "\tstatus_of_blocks TEXT, \n",
      "\ttype_of_block TEXT, \n",
      "\tmineral TEXT, \n",
      "\tname_of_bidder TEXT, \n",
      "\tlease_area DOUBLE PRECISION, \n",
      "\treserve_mt TEXT, \n",
      "\tfpo DOUBLE PRECISION, \n",
      "\tdate_of_auction DATE, \n",
      "\tdate_of_loi_issuance DATE, \n",
      "\tfy_expiry TEXT\n",
      ")\n",
      "\n",
      "/*\n",
      "3 rows from iron_ore_blocks table:\n",
      "sl._no\tstate\tblock_name\tgreenfield_or_brownfield\tstatus_of_blocks\ttype_of_block\tmineral\tname_of_bidder\tlease_area\treserve_mt\tfpo\tdate_of_auction\tdate_of_loi_issuance\tfy_expiry\n",
      "1\tAndhra Pradesh\tAddankivaripalem\tGreenfield\tDeed Executed and Exploration in Progress\tCL\tIron Ore\tJSW Steel Ltd.\tNone\tNone\t14.4\t2023-07-28\t2023-05-09\t2024-25\n",
      "2\tMaharashtra\tAjgaon Block\tGreenfield\tDeed Executed and Exploration in Progress\tCL\tIron Ore\tJSW Steel Ltd.\t8.4\tNone\t25.0\t2022-03-31\tNone\t2023-24\n",
      "3\tOrissa\tBadampahar Iron Ore Block\tBrownfield\tOperationalised\tML\tIron Ore\tGM Iron & Steel Company Ltd\t129.61\t4.484\t95.15\t2020-07-01\tNone\t2025-26\n",
      "*/\n",
      "==================================\u001b[1m Ai Message \u001b[0m==================================\n",
      "Tool Calls:\n",
      "  sql_db_query_checker (call_eIUdBqYPmmiE4ywAFQgGW61k)\n",
      " Call ID: call_eIUdBqYPmmiE4ywAFQgGW61k\n",
      "  Args:\n",
      "    query: SELECT state, COUNT(*) AS blocks_auctioned\n",
      "FROM iron_ore_blocks\n",
      "GROUP BY state\n",
      "ORDER BY blocks_auctioned DESC\n",
      "LIMIT 5;\n",
      "=================================\u001b[1m Tool Message \u001b[0m=================================\n",
      "Name: sql_db_query_checker\n",
      "\n",
      "SELECT state, COUNT(*) AS blocks_auctioned\n",
      "FROM iron_ore_blocks\n",
      "GROUP BY state\n",
      "ORDER BY blocks_auctioned DESC\n",
      "LIMIT 5;\n",
      "==================================\u001b[1m Ai Message \u001b[0m==================================\n",
      "Tool Calls:\n",
      "  sql_db_query (call_vUtKWNPJFETL70PZSSGOWczt)\n",
      " Call ID: call_vUtKWNPJFETL70PZSSGOWczt\n",
      "  Args:\n",
      "    query: SELECT state, COUNT(*) AS blocks_auctioned\n",
      "FROM iron_ore_blocks\n",
      "GROUP BY state\n",
      "ORDER BY blocks_auctioned DESC\n",
      "LIMIT 5;\n",
      "=================================\u001b[1m Tool Message \u001b[0m=================================\n",
      "Name: sql_db_query\n",
      "\n",
      "[('Orissa', 40), ('Karnataka', 39), ('Chhattisgarh', 13), ('Goa', 12), ('Maharashtra', 12)]\n",
      "==================================\u001b[1m Ai Message \u001b[0m==================================\n",
      "\n",
      "Orissa has the most blocks auctioned (40 blocks). \n",
      "\n",
      "Top states by blocks auctioned (top 5):\n",
      "- Orissa: 40\n",
      "- Karnataka: 39\n",
      "- Chhattisgarh: 13\n",
      "- Goa: 12\n",
      "- Maharashtra: 12\n"
     ]
    }
   ],
   "source": [
    "question = \"which state has the most blocks auctioned?\"\n",
    "\n",
    "for step in agent_executor.stream(\n",
    "    {\"messages\": [{\"role\": \"user\", \"content\": question}]},\n",
    "    stream_mode=\"values\",\n",
    "):\n",
    "    step[\"messages\"][-1].pretty_print()"
   ]
  },
  {
   "cell_type": "code",
   "execution_count": 50,
   "id": "1bd3548e",
   "metadata": {},
   "outputs": [
    {
     "name": "stdout",
     "output_type": "stream",
     "text": [
      "================================\u001b[1m Human Message \u001b[0m=================================\n",
      "\n",
      "Describe the iron ore blocks table\n",
      "==================================\u001b[1m Ai Message \u001b[0m==================================\n",
      "Tool Calls:\n",
      "  sql_db_list_tables (call_GiRoKZAoF8ICGuqDTojfC9rr)\n",
      " Call ID: call_GiRoKZAoF8ICGuqDTojfC9rr\n",
      "  Args:\n",
      "    tool_input:\n",
      "=================================\u001b[1m Tool Message \u001b[0m=================================\n",
      "Name: sql_db_list_tables\n",
      "\n",
      "iron_ore_blocks\n",
      "==================================\u001b[1m Ai Message \u001b[0m==================================\n",
      "Tool Calls:\n",
      "  sql_db_schema (call_Ogrrq7duf4C834ihfgVplTR2)\n",
      " Call ID: call_Ogrrq7duf4C834ihfgVplTR2\n",
      "  Args:\n",
      "    table_names: iron_ore_blocks\n",
      "=================================\u001b[1m Tool Message \u001b[0m=================================\n",
      "Name: sql_db_schema\n",
      "\n",
      "\n",
      "CREATE TABLE iron_ore_blocks (\n",
      "\t\"sl._no\" BIGINT, \n",
      "\tstate TEXT, \n",
      "\tblock_name TEXT, \n",
      "\tgreenfield_or_brownfield TEXT, \n",
      "\tstatus_of_blocks TEXT, \n",
      "\ttype_of_block TEXT, \n",
      "\tmineral TEXT, \n",
      "\tname_of_bidder TEXT, \n",
      "\tlease_area DOUBLE PRECISION, \n",
      "\treserve_mt TEXT, \n",
      "\tfpo DOUBLE PRECISION, \n",
      "\tdate_of_auction DATE, \n",
      "\tdate_of_loi_issuance DATE, \n",
      "\tfy_expiry TEXT\n",
      ")\n",
      "\n",
      "/*\n",
      "3 rows from iron_ore_blocks table:\n",
      "sl._no\tstate\tblock_name\tgreenfield_or_brownfield\tstatus_of_blocks\ttype_of_block\tmineral\tname_of_bidder\tlease_area\treserve_mt\tfpo\tdate_of_auction\tdate_of_loi_issuance\tfy_expiry\n",
      "1\tAndhra Pradesh\tAddankivaripalem\tGreenfield\tDeed Executed and Exploration in Progress\tCL\tIron Ore\tJSW Steel Ltd.\tNone\tNone\t14.4\t2023-07-28\t2023-05-09\t2024-25\n",
      "2\tMaharashtra\tAjgaon Block\tGreenfield\tDeed Executed and Exploration in Progress\tCL\tIron Ore\tJSW Steel Ltd.\t8.4\tNone\t25.0\t2022-03-31\tNone\t2023-24\n",
      "3\tOrissa\tBadampahar Iron Ore Block\tBrownfield\tOperationalised\tML\tIron Ore\tGM Iron & Steel Company Ltd\t129.61\t4.484\t95.15\t2020-07-01\tNone\t2025-26\n",
      "*/\n",
      "==================================\u001b[1m Ai Message \u001b[0m==================================\n",
      "Tool Calls:\n",
      "  sql_db_query_checker (call_suqRdfPZPPxrUejjg7llU4uT)\n",
      " Call ID: call_suqRdfPZPPxrUejjg7llU4uT\n",
      "  Args:\n",
      "    query: SELECT COUNT(*) AS row_count FROM iron_ore_blocks;\n",
      "=================================\u001b[1m Tool Message \u001b[0m=================================\n",
      "Name: sql_db_query_checker\n",
      "\n",
      "SELECT COUNT(*) AS row_count FROM iron_ore_blocks;\n",
      "==================================\u001b[1m Ai Message \u001b[0m==================================\n",
      "Tool Calls:\n",
      "  sql_db_query (call_PZGgszVbXlTTEOMMBFrOcJtg)\n",
      " Call ID: call_PZGgszVbXlTTEOMMBFrOcJtg\n",
      "  Args:\n",
      "    query: SELECT * FROM iron_ore_blocks LIMIT 5;\n",
      "=================================\u001b[1m Tool Message \u001b[0m=================================\n",
      "Name: sql_db_query\n",
      "\n",
      "[(1, 'Andhra Pradesh', 'Addankivaripalem', 'Greenfield', 'Deed Executed and Exploration in Progress', 'CL', 'Iron Ore', 'JSW Steel Ltd.', None, None, 14.4, datetime.date(2023, 7, 28), datetime.date(2023, 5, 9), '2024-25'), (2, 'Maharashtra', 'Ajgaon Block', 'Greenfield', 'Deed Executed and Exploration in Progress', 'CL', 'Iron Ore', 'JSW Steel Ltd.', 8.4, None, 25.0, datetime.date(2022, 3, 31), None, '2023-24'), (3, 'Orissa', 'Badampahar Iron Ore Block', 'Brownfield', 'Operationalised', 'ML', 'Iron Ore', 'GM Iron & Steel Company Ltd', 129.61, '4.484', 95.15, datetime.date(2020, 7, 1), None, '2025-26'), (4, 'Rajasthan', 'Bagawas', 'Brownfield', 'In process of revocation', 'ML', 'Iron Ore', 'Subhash Lohiya, Propo. M/s Bharat Coal Traders, Punjab', 5.9266, '0.58', 452.0, datetime.date(2022, 7, 29), datetime.date(2023, 4, 4), '2028-29'), (5, 'Chhattisgarh', 'Bailadila Deposit 01A Iron Ore Block', 'Greenfield', 'Pending with bidder - SOP/NOC', 'CL', 'Iron Ore', 'M/s ArcelorMittal\\n Nippon Steel India\\n Pvt. Ltd.', 850.0, '55.23', 151.3, datetime.date(2025, 3, 24), None, '2026-27')]\n",
      "==================================\u001b[1m Ai Message \u001b[0m==================================\n",
      "\n",
      "Summary\n",
      "- Table name: iron_ore_blocks\n",
      "- Purpose: stores metadata about iron-ore mining blocks (location, type, bidder, lease area, reserves, auction/LOI dates, financial year expiry)\n",
      "\n",
      "Schema (column name : data type — brief meaning)\n",
      "- \"sl._no\" : BIGINT — serial/row number (no explicit PK defined)\n",
      "- state : TEXT — state where the block is located\n",
      "- block_name : TEXT — name of the block\n",
      "- greenfield_or_brownfield : TEXT — whether greenfield or brownfield\n",
      "- status_of_blocks : TEXT — current status (e.g., Operationalised, Deed Executed, Pending, In process of revocation)\n",
      "- type_of_block : TEXT — block category (e.g., CL, ML)\n",
      "- mineral : TEXT — mineral type (here: Iron Ore)\n",
      "- name_of_bidder : TEXT — winning bidder / current lessee\n",
      "- lease_area : DOUBLE PRECISION — lease area (numeric, in relevant units)\n",
      "- reserve_mt : TEXT — reserves (stored as text in this table)\n",
      "- fpo : DOUBLE PRECISION — FPO (value as numeric)\n",
      "- date_of_auction : DATE — auction date\n",
      "- date_of_loi_issuance : DATE — date of issuance of LOI (if any)\n",
      "- fy_expiry : TEXT — financial year expiry (stored as text, e.g., \"2024-25\")\n",
      "\n",
      "Sample rows (up to 5)\n",
      "1) sl._no=1 — state=Andhra Pradesh; block_name=Addankivaripalem; greenfield_or_brownfield=Greenfield; status=Deed Executed and Exploration in Progress; type=CL; mineral=Iron Ore; name_of_bidder=JSW Steel Ltd.; lease_area=NULL; reserve_mt=NULL; fpo=14.4; date_of_auction=2023-07-28; date_of_loi_issuance=2023-05-09; fy_expiry=2024-25\n",
      "\n",
      "2) sl._no=2 — state=Maharashtra; block_name=Ajgaon Block; greenfield_or_brownfield=Greenfield; status=Deed Executed and Exploration in Progress; type=CL; mineral=Iron Ore; name_of_bidder=JSW Steel Ltd.; lease_area=8.4; reserve_mt=NULL; fpo=25.0; date_of_auction=2022-03-31; date_of_loi_issuance=NULL; fy_expiry=2023-24\n",
      "\n",
      "3) sl._no=3 — state=Orissa; block_name=Badampahar Iron Ore Block; greenfield_or_brownfield=Brownfield; status=Operationalised; type=ML; mineral=Iron Ore; name_of_bidder=GM Iron & Steel Company Ltd; lease_area=129.61; reserve_mt='4.484'; fpo=95.15; date_of_auction=2020-07-01; date_of_loi_issuance=NULL; fy_expiry=2025-26\n",
      "\n",
      "4) sl._no=4 — state=Rajasthan; block_name=Bagawas; greenfield_or_brownfield=Brownfield; status=In process of revocation; type=ML; mineral=Iron Ore; name_of_bidder=Subhash Lohiya, Propo. M/s Bharat Coal Traders, Punjab; lease_area=5.9266; reserve_mt='0.58'; fpo=452.0; date_of_auction=2022-07-29; date_of_loi_issuance=2023-04-04; fy_expiry=2028-29\n",
      "\n",
      "5) sl._no=5 — state=Chhattisgarh; block_name=Bailadila Deposit 01A Iron Ore Block; greenfield_or_brownfield=Greenfield; status=Pending with bidder - SOP/NOC; type=CL; mineral=Iron Ore; name_of_bidder=M/s ArcelorMittal Nippon Steel India Pvt. Ltd.; lease_area=850.0; reserve_mt='55.23'; fpo=151.3; date_of_auction=2025-03-24; date_of_loi_issuance=NULL; fy_expiry=2026-27\n",
      "\n",
      "Notes and suggestions\n",
      "- The column name \"sl._no\" contains a dot and may be inconvenient; consider renaming to sl_no or id.\n",
      "- reserve_mt is stored as TEXT — convert to numeric (DOUBLE PRECISION) for reliable numeric operations.\n",
      "- fy_expiry stored as TEXT (e.g., \"2024-25\") — consider storing as a structured range or two integer columns (fy_start, fy_end).\n",
      "- Some date columns contain NULLs; confirm whether NULL means \"not issued\" or \"not applicable\".\n",
      "- name_of_bidder values are inconsistent (multiple-line entries, comma-separated lists) — normalize into a related bidders table if you need structured queries.\n",
      "\n",
      "If you want, I can:\n",
      "- return the full column list and types in JSON,\n",
      "- run a COUNT(*) and show how many rows exist,\n",
      "- or convert reserve_mt sample values to numeric to check parsing errors. Which would you like next?\n"
     ]
    }
   ],
   "source": [
    "question = \"Describe the iron ore blocks table\"\n",
    "\n",
    "for step in agent_executor.stream(\n",
    "    {\"messages\": [{\"role\": \"user\", \"content\": question}]},\n",
    "    stream_mode=\"values\",\n",
    "):\n",
    "    step[\"messages\"][-1].pretty_print()"
   ]
  },
  {
   "cell_type": "code",
   "execution_count": null,
   "id": "32383a96",
   "metadata": {},
   "outputs": [],
   "source": [
    "import ast\n",
    "import re\n",
    "\n",
    "\n",
    "def query_as_list(db, query):\n",
    "    res = db.run(query)\n",
    "    res = [el for sub in ast.literal_eval(res) for el in sub if el]\n",
    "    res = [re.sub(r\"\\b\\d+\\b\", \"\", string).strip() for string in res]\n",
    "    return list(set(res))\n",
    "\n",
    "\n",
    "state = query_as_list(db, \"SELECT state FROM iron_ore_blocks\")\n",
    "albums = query_as_list(db, \"SELECT block_name FROM iron_ore_blocks\")\n",
    "albums[:5]"
   ]
  },
  {
   "cell_type": "code",
   "execution_count": 93,
   "id": "29ed8794",
   "metadata": {},
   "outputs": [],
   "source": [
    "connection_string = os.getenv('DB_URL')"
   ]
  },
  {
   "cell_type": "code",
   "execution_count": 90,
   "id": "675c6888",
   "metadata": {},
   "outputs": [],
   "source": [
    "def get_connection():\n",
    "    try:\n",
    "        db = SQLDatabase.from_uri(connection_string)\n",
    "        return db\n",
    "    except Exception as e:\n",
    "        st.error(f'Connection with DB failed {e}')"
   ]
  },
  {
   "cell_type": "code",
   "execution_count": 103,
   "id": "7c040513",
   "metadata": {},
   "outputs": [],
   "source": [
    "from langchain_core.documents import Document\n",
    "def get_pronouns(table_name):\n",
    "    try:\n",
    "        db = get_connection()\n",
    "        query = f\"\"\"\n",
    "                SELECT \n",
    "                    column_name, \n",
    "                    data_type, \n",
    "                    is_nullable,\n",
    "                    column_default,\n",
    "                    (SELECT pg_catalog.col_description(c.oid, cols.ordinal_position::int)\n",
    "                    FROM pg_catalog.pg_class c\n",
    "                    WHERE c.oid = (SELECT ('\"' || cols.table_name || '\"')::regclass::oid)\n",
    "                        AND c.relname = cols.table_name) AS column_comment\n",
    "                FROM information_schema.columns cols\n",
    "                WHERE table_name = '{table_name}'\n",
    "        \"\"\"\n",
    "        result_str = db.run(query)\n",
    "        columns = ast.literal_eval(result_str)\n",
    "        arr_pronouns = []\n",
    "        for col in columns:\n",
    "            if col[1] == 'text':\n",
    "                col_nouns = (query_as_list(db, f\"SELECT {col[0]} FROM iron_ore_blocks\"))\n",
    "                col_unique_nouns = set(col_nouns)\n",
    "                docs = [Document(page_content=i, metadata={\"table\": table_name, \"column_name\": col[0], \"column_datatype\": col[1]}) for i in col_unique_nouns]\n",
    "                arr_pronouns+=docs\n",
    "            # arr_pronouns += query_as_list(db, f\"SELECT {col[0]} FROM iron_ore_blocks\")\n",
    "        return arr_pronouns\n",
    "    except Exception as e:\n",
    "        st.error(f\"Error getting metadata: {e}\")\n",
    "        return []\n",
    "    finally:\n",
    "        db._engine.dispose()"
   ]
  },
  {
   "cell_type": "code",
   "execution_count": null,
   "id": "a9cfb4c1",
   "metadata": {},
   "outputs": [],
   "source": [
    "def get_metadata(table_name):\n",
    "    try:\n",
    "        query = f\"\"\"\n",
    "                SELECT \n",
    "                    column_name, \n",
    "                    data_type, \n",
    "                    is_nullable,\n",
    "                    column_default,\n",
    "                    (SELECT pg_catalog.col_description(c.oid, cols.ordinal_position::int)\n",
    "                    FROM pg_catalog.pg_class c\n",
    "                    WHERE c.oid = (SELECT ('\"' || cols.table_name || '\"')::regclass::oid)\n",
    "                        AND c.relname = cols.table_name) AS column_comment\n",
    "                FROM information_schema.columns cols\n",
    "                WHERE table_name = '{table_name}'\n",
    "        \"\"\"\n",
    "        result_str = db.run(query)\n",
    "        columns = ast.literal_eval(result_str)\n",
    "        metadata = [\n",
    "            f\"Field: {col[0]}, Type: {col[1]}, Null: {'YES' if col[2]=='YES' else 'NO'}, \"\n",
    "            \n",
    "            f\"Default: {col[3]}, Comment: {col[4] or ''}\"\n",
    "            for col in columns\n",
    "        ]\n",
    "        return metadata\n",
    "    except Exception as e:\n",
    "        st.error(f\"Error getting metadata: {e}\")\n",
    "        return []"
   ]
  },
  {
   "cell_type": "code",
   "execution_count": 82,
   "id": "bb56a624",
   "metadata": {},
   "outputs": [
    {
     "data": {
      "text/plain": [
       "['Field: lease_area, Type: double precision, Null: YES, Default: None, Comment: Total lease area of the iron ore block in hectares. Represents the geographical extent of the block allocated for mining.',\n",
       " 'Field: fpo, Type: double precision, Null: YES, Default: None, Comment: Final price offered (FPO) or winning premium for the auctioned iron ore block, expressed as a percentage. Represents the bid at which the block was awarded to the successful bidder.',\n",
       " 'Field: date_of_auction, Type: date, Null: YES, Default: None, Comment: The date on which the auction for the iron ore block was conducted. Stored in DATE format. Indian financial calendar convention is that the financial year runs from 1st April to 31st March of the next year.',\n",
       " 'Field: date_of_loi_issuance, Type: date, Null: YES, Default: None, Comment: The date on which the Letter of Intent (LOI) was issued to the successful bidder. Stored in DATE format. The Indian financial calendar runs from 1st April to 31st March.',\n",
       " 'Field: sl._no, Type: bigint, Null: YES, Default: None, Comment: ',\n",
       " 'Field: type_of_block, Type: text, Null: YES, Default: None, Comment: Specifies the type of mining concession for the iron ore block:\\r\\n- CL: Composite Licence (prospecting followed by mining rights)\\r\\n- ML: Mining Lease (direct mining rights granted)',\n",
       " 'Field: mineral, Type: text, Null: YES, Default: None, Comment: ',\n",
       " 'Field: name_of_bidder, Type: text, Null: YES, Default: None, Comment: Name of the successful bidder who won the auction for the iron ore block. This corresponds to the company/entity awarded the mining rights.',\n",
       " 'Field: reserve_mt, Type: text, Null: YES, Default: None, Comment: Estimated iron ore reserves within the lease area, expressed in million tonnes (MT). Indicates the total quantity of extractable ore in the block.',\n",
       " 'Field: fy_expiry, Type: text, Null: YES, Default: None, Comment: Financial Year (FY) in which the Letter of Intent (LOI) for the specific iron ore block expires. \\r\\n- In India, a financial year runs from 1st April of a year to 31st March of the next year. \\r\\n- The column indicates the FY of LOI expiry, not calendar year. \\r\\n- For ML (Mining Lease) blocks, LOI...',\n",
       " 'Field: state, Type: text, Null: YES, Default: None, Comment: List of all 28 States of India (for reference):\\r\\n1. Andhra Pradesh\\r\\n2. Arunachal Pradesh\\r\\n3. Assam\\r\\n4. Bihar\\r\\n5. Chhattisgarh\\r\\n6. Goa\\r\\n7. Gujarat\\r\\n8. Haryana\\r\\n9. Himachal Pradesh\\r\\n10. Jharkhand\\r\\n11. Karnataka\\r\\n12. Kerala\\r\\n13. Madhya Pradesh\\r\\n14. Maharashtra\\r\\n15. Manipur\\r\\n16. Meghalaya\\r\\n17....',\n",
       " 'Field: block_name, Type: text, Null: YES, Default: None, Comment: Name of the iron ore block that has been auctioned. Each record represents the officially designated block name as notified in the auction process.',\n",
       " 'Field: greenfield_or_brownfield, Type: text, Null: YES, Default: None, Comment: Indicates whether the auctioned iron ore block is classified as a Greenfield block (newly explored, no prior mining activity) or a Brownfield block (previously under mining operations).',\n",
       " 'Field: status_of_blocks, Type: text, Null: YES, Default: None, Comment: Represents the current status of the iron ore block in the auction and post-auction process. Common values include:\\r\\n- MDPA to be signed\\r\\n- Timeline for deed execution expired\\r\\n- Block Declared Anulled\\r\\n- EC Pendency\\r\\n- In process of revocation\\r\\n- Operationalised\\r\\n- Deed execution pending with...']"
      ]
     },
     "execution_count": 82,
     "metadata": {},
     "output_type": "execute_result"
    }
   ],
   "source": [
    "get_metadata(\"iron_ore_blocks\")"
   ]
  },
  {
   "cell_type": "code",
   "execution_count": 84,
   "id": "8060851a",
   "metadata": {},
   "outputs": [],
   "source": [
    "from langchain_openai.embeddings import OpenAIEmbeddings\n",
    "\n",
    "embeddings = OpenAIEmbeddings(\n",
    "    model='text-embedding-3-large'\n",
    ")\n"
   ]
  },
  {
   "cell_type": "code",
   "execution_count": 85,
   "id": "8e8cd5ac",
   "metadata": {},
   "outputs": [],
   "source": [
    "from langchain_chroma import Chroma\n",
    "\n",
    "vector_store = Chroma(\n",
    "    collection_name=\"example_collection\",\n",
    "    embedding_function=embeddings,\n",
    "    persist_directory=\"./chroma_langchain_db\",  # Where to save data locally, remove if not necessary\n",
    ")"
   ]
  },
  {
   "cell_type": "code",
   "execution_count": 115,
   "id": "171df96b",
   "metadata": {},
   "outputs": [],
   "source": [
    "from langchain.agents.agent_toolkits import create_retriever_tool\n",
    "import streamlit as st\n",
    "\n",
    "arr_pronouns = get_pronouns(\"iron_ore_blocks\")\n",
    "\n",
    "_ = vector_store.add_documents(arr_pronouns)\n",
    "retriever = vector_store.as_retriever(search_kwargs={\"k\": 5})\n",
    "description = (\n",
    "    \"The user might make spelling mistake on his input\"\n",
    "    \"So consider the user input as an approximate spelling\"\n",
    "    \"and try to match with retriever documents provided\"\n",
    ")\n",
    "retriever_tool = create_retriever_tool(\n",
    "    retriever,\n",
    "    name=\"search_proper_nouns\",\n",
    "    description=description,\n",
    ")"
   ]
  },
  {
   "cell_type": "code",
   "execution_count": 116,
   "id": "b140ecc4",
   "metadata": {},
   "outputs": [
    {
     "data": {
      "text/plain": [
       "'Andhra Pradesh\\n\\nAndhra Pradesh\\n\\nAndhra Pradesh\\n\\nAddankivaripalem\\n\\nAddankivaripalem'"
      ]
     },
     "execution_count": 116,
     "metadata": {},
     "output_type": "execute_result"
    }
   ],
   "source": [
    "retriever_tool.invoke(\"What is the state name Andra Pradesh\")"
   ]
  },
  {
   "cell_type": "code",
   "execution_count": null,
   "id": "6042a41d",
   "metadata": {},
   "outputs": [],
   "source": [
    "# Add to system message\n",
    "suffix = (\n",
    "    \"If you need to filter on a proper noun like a Name, you must ALWAYS first look up \"\n",
    "    \"the filter value using the 'search_proper_nouns' tool! Do not try to \"\n",
    "    \"guess at the proper name - use this function to find similar ones.\"\n",
    ")\n",
    "\n",
    "system = f\"{system_message}\\n\\n{suffix}\"\n",
    "\n",
    "tools.append(retriever_tool)\n",
    "\n",
    "agent = create_react_agent(llm, tools, prompt=system)"
   ]
  }
 ],
 "metadata": {
  "kernelspec": {
   "display_name": "venv",
   "language": "python",
   "name": "python3"
  },
  "language_info": {
   "codemirror_mode": {
    "name": "ipython",
    "version": 3
   },
   "file_extension": ".py",
   "mimetype": "text/x-python",
   "name": "python",
   "nbconvert_exporter": "python",
   "pygments_lexer": "ipython3",
   "version": "3.13.1"
  }
 },
 "nbformat": 4,
 "nbformat_minor": 5
}
