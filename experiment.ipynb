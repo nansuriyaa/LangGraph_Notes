{
 "cells": [
  {
   "cell_type": "code",
   "execution_count": 9,
   "id": "173fe5d0",
   "metadata": {},
   "outputs": [
    {
     "data": {
      "text/plain": [
       "True"
      ]
     },
     "execution_count": 9,
     "metadata": {},
     "output_type": "execute_result"
    }
   ],
   "source": [
    "import os\n",
    "from dotenv import load_dotenv\n",
    "\n",
    "load_dotenv(override=True)"
   ]
  },
  {
   "cell_type": "code",
   "execution_count": 16,
   "id": "ee2b3550",
   "metadata": {},
   "outputs": [
    {
     "name": "stdout",
     "output_type": "stream",
     "text": [
      "postgresql\n",
      "['iron_ore_blocks']\n",
      "\n",
      "CREATE TABLE iron_ore_blocks (\n",
      "\t\"sl._no\" BIGINT, \n",
      "\tstate TEXT, \n",
      "\tblock_name TEXT, \n",
      "\tgreenfield_or_brownfield TEXT, \n",
      "\tstatus_of_blocks TEXT, \n",
      "\ttype_of_block TEXT, \n",
      "\tmineral TEXT, \n",
      "\tname_of_bidder TEXT, \n",
      "\tlease_area DOUBLE PRECISION, \n",
      "\treserve_mt TEXT, \n",
      "\tfpo DOUBLE PRECISION, \n",
      "\tdate_of_auction DATE, \n",
      "\tdate_of_loi_issuance DATE, \n",
      "\tfy_expiry TEXT\n",
      ")\n",
      "\n",
      "/*\n",
      "3 rows from iron_ore_blocks table:\n",
      "sl._no\tstate\tblock_name\tgreenfield_or_brownfield\tstatus_of_blocks\ttype_of_block\tmineral\tname_of_bidder\tlease_area\treserve_mt\tfpo\tdate_of_auction\tdate_of_loi_issuance\tfy_expiry\n",
      "1\tAndhra Pradesh\tAddankivaripalem\tGreenfield\tDeed Executed and Exploration in Progress\tCL\tIron Ore\tJSW Steel Ltd.\tNone\tNone\t14.4\t2023-07-28\t2023-05-09\t2024-25\n",
      "2\tMaharashtra\tAjgaon Block\tGreenfield\tDeed Executed and Exploration in Progress\tCL\tIron Ore\tJSW Steel Ltd.\t8.4\tNone\t25.0\t2022-03-31\tNone\t2023-24\n",
      "3\tOrissa\tBadampahar Iron Ore Block\tBrownfield\tOperationalised\tML\tIron Ore\tGM Iron & Steel Company Ltd\t129.61\t4.484\t95.15\t2020-07-01\tNone\t2025-26\n",
      "*/\n"
     ]
    },
    {
     "data": {
      "text/plain": [
       "\"[(1, 'Andhra Pradesh', 'Addankivaripalem', 'Greenfield', 'Deed Executed and Exploration in Progress', 'CL', 'Iron Ore', 'JSW Steel Ltd.', None, None, 14.4, datetime.date(2023, 7, 28), datetime.date(2023, 5, 9), '2024-25'), (2, 'Maharashtra', 'Ajgaon Block', 'Greenfield', 'Deed Executed and Exploration in Progress', 'CL', 'Iron Ore', 'JSW Steel Ltd.', 8.4, None, 25.0, datetime.date(2022, 3, 31), None, '2023-24'), (3, 'Orissa', 'Badampahar Iron Ore Block', 'Brownfield', 'Operationalised', 'ML', 'Iron Ore', 'GM Iron & Steel Company Ltd', 129.61, '4.484', 95.15, datetime.date(2020, 7, 1), None, '2025-26'), (4, 'Rajasthan', 'Bagawas', 'Brownfield', 'In process of revocation', 'ML', 'Iron Ore', 'Subhash Lohiya, Propo. M/s Bharat Coal Traders, Punjab', 5.9266, '0.58', 452.0, datetime.date(2022, 7, 29), datetime.date(2023, 4, 4), '2028-29'), (5, 'Chhattisgarh', 'Bailadila Deposit 01A Iron Ore Block', 'Greenfield', 'Pending with bidder - SOP/NOC', 'CL', 'Iron Ore', 'M/s ArcelorMittal\\\\n Nippon Steel India\\\\n Pvt. Ltd.', 850.0, '55.23', 151.3, datetime.date(2025, 3, 24), None, '2026-27'), (6, 'Chhattisgarh', 'Bailadila Deposit 01B Iron Ore Block', 'Greenfield', 'Pending with bidder - SOP/NOC', 'CL', 'Iron Ore', 'M/s ArcelorMittal\\\\n Nippon Steel India\\\\n Pvt. Ltd.', 850.0, '103.25', 157.5, datetime.date(2025, 3, 26), None, '2030-31'), (7, 'Chhattisgarh', 'Bailadila Deposit 01C Iron Ore Block', 'Greenfield', 'Pending with bidder - SOP/NOC', 'CL', 'Iron Ore', 'M/s Rungta Sons\\\\n Pvt. Ltd.', 825.0, '129.93', 152.0, datetime.date(2025, 3, 27), None, '2030-31'), (8, 'Madhya Pradesh', 'Bajna Iron Ore', 'Greenfield', 'EC & FC Pendency', 'ML', 'Iron Ore', 'Sunflag Iron & Steel Company Ltd.', 96.0, '38.81', 74.05, datetime.date(2022, 7, 26), datetime.date(2022, 7, 11), '2027-28'), (9, 'Orissa', 'Balda Iron Ore Block', 'Brownfield', 'Operationalised', 'ML', 'Iron Ore', 'Serajuddin & Co.', 343.981, '200.11', 118.1, datetime.date(2020, 2, 3), datetime.date(2020, 2, 3), '2024-25'), (10, 'Jharkhand', 'Baraiburu - Tatiba Iron and Manganese Ore Block', 'Greenfield', 'FC Pendency', 'CL', 'Iron and Manganese Ore', 'M/s Rungta Mines', 258.99, 'Fe – 77.85 Mn- 3.61', None, datetime.date(2023, 8, 18), None, '2026-27')]\""
      ]
     },
     "execution_count": 16,
     "metadata": {},
     "output_type": "execute_result"
    }
   ],
   "source": [
    "from langchain_community.utilities import SQLDatabase\n",
    "\n",
    "database_url = os.getenv('DB_URL')\n",
    "\n",
    "db = SQLDatabase.from_uri(database_url)\n",
    "print(db.dialect)\n",
    "print(db.get_usable_table_names())\n",
    "print(db.get_table_info())\n",
    "db.run(\"SELECT * FROM iron_ore_blocks LIMIT 10;\")"
   ]
  },
  {
   "cell_type": "code",
   "execution_count": 13,
   "id": "c2ceec0b",
   "metadata": {},
   "outputs": [],
   "source": [
    "from typing_extensions import TypedDict\n",
    "\n",
    "\n",
    "class State(TypedDict):\n",
    "    question: str\n",
    "    query: str\n",
    "    result: str\n",
    "    answer: str"
   ]
  },
  {
   "cell_type": "code",
   "execution_count": 14,
   "id": "57797f70",
   "metadata": {},
   "outputs": [],
   "source": [
    "import getpass\n",
    "import os\n",
    "from langchain.chat_models import init_chat_model\n",
    "\n",
    "os.environ[\"OPENAI_API_KEY\"] = os.getenv('OPENAI_API_KEY')\n",
    "\n",
    "llm = init_chat_model(\"gpt-4o-mini\", model_provider=\"openai\")"
   ]
  },
  {
   "cell_type": "code",
   "execution_count": 15,
   "id": "b1eddeb2",
   "metadata": {},
   "outputs": [
    {
     "name": "stdout",
     "output_type": "stream",
     "text": [
      "================================\u001b[1m System Message \u001b[0m================================\n",
      "\n",
      "\n",
      "Given an input question, create a syntactically correct \u001b[33;1m\u001b[1;3m{dialect}\u001b[0m query to\n",
      "run to help find the answer. Unless the user specifies in his question a\n",
      "specific number of examples they wish to obtain, always limit your query to\n",
      "at most \u001b[33;1m\u001b[1;3m{top_k}\u001b[0m results. You can order the results by a relevant column to\n",
      "return the most interesting examples in the database.\n",
      "\n",
      "Never query for all the columns from a specific table, only ask for a the\n",
      "few relevant columns given the question.\n",
      "\n",
      "Pay attention to use only the column names that you can see in the schema\n",
      "description. Be careful to not query for columns that do not exist. Also,\n",
      "pay attention to which column is in which table.\n",
      "\n",
      "Only use the following tables:\n",
      "\u001b[33;1m\u001b[1;3m{table_info}\u001b[0m\n",
      "\n",
      "================================\u001b[1m Human Message \u001b[0m=================================\n",
      "\n",
      "Question: \u001b[33;1m\u001b[1;3m{input}\u001b[0m\n"
     ]
    }
   ],
   "source": [
    "from langchain_core.prompts import ChatPromptTemplate\n",
    "\n",
    "system_message = \"\"\"\n",
    "Given an input question, create a syntactically correct {dialect} query to\n",
    "run to help find the answer. Unless the user specifies in his question a\n",
    "specific number of examples they wish to obtain, always limit your query to\n",
    "at most {top_k} results. You can order the results by a relevant column to\n",
    "return the most interesting examples in the database.\n",
    "\n",
    "Never query for all the columns from a specific table, only ask for a the\n",
    "few relevant columns given the question.\n",
    "\n",
    "Pay attention to use only the column names that you can see in the schema\n",
    "description. Be careful to not query for columns that do not exist. Also,\n",
    "pay attention to which column is in which table.\n",
    "\n",
    "Only use the following tables:\n",
    "{table_info}\n",
    "\"\"\"\n",
    "\n",
    "user_prompt = \"Question: {input}\"\n",
    "\n",
    "query_prompt_template = ChatPromptTemplate(\n",
    "    [(\"system\", system_message), (\"user\", user_prompt)]\n",
    ")\n",
    "\n",
    "for message in query_prompt_template.messages:\n",
    "    message.pretty_print()"
   ]
  },
  {
   "cell_type": "code",
   "execution_count": null,
   "id": "bedd2211",
   "metadata": {},
   "outputs": [],
   "source": [
    "from typing_extensions import Annotated\n",
    "\n",
    "\n",
    "class QueryOutput(TypedDict):\n",
    "    \"\"\"Generated SQL query.\"\"\"\n",
    "\n",
    "    query: Annotated[str, ..., \"Syntactically valid SQL query.\"]\n",
    "\n",
    "\n",
    "def write_query(state: State):\n",
    "    \"\"\"Generate SQL query to fetch information.\"\"\"\n",
    "    prompt = query_prompt_template.invoke(\n",
    "        {\n",
    "            \"dialect\": db.dialect,\n",
    "            \"top_k\": 10,\n",
    "            \"table_info\": db.get_table_info(),\n",
    "            \"input\": state[\"question\"],\n",
    "        }\n",
    "    )\n",
    "    structured_llm = llm.with_structured_output(QueryOutput)\n",
    "    result = structured_llm.invoke(prompt)\n",
    "    return {\"query\": result[\"query\"]}"
   ]
  }
 ],
 "metadata": {
  "kernelspec": {
   "display_name": "venv",
   "language": "python",
   "name": "python3"
  },
  "language_info": {
   "codemirror_mode": {
    "name": "ipython",
    "version": 3
   },
   "file_extension": ".py",
   "mimetype": "text/x-python",
   "name": "python",
   "nbconvert_exporter": "python",
   "pygments_lexer": "ipython3",
   "version": "3.13.1"
  }
 },
 "nbformat": 4,
 "nbformat_minor": 5
}
