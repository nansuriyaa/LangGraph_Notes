{
 "cells": [
  {
   "cell_type": "markdown",
   "id": "167554cc",
   "metadata": {},
   "source": [
    "### Implementing simple Chatbot Using LangGraph"
   ]
  },
  {
   "cell_type": "code",
   "execution_count": 2,
   "id": "5e18af71",
   "metadata": {},
   "outputs": [],
   "source": [
    "from typing_extensions import TypedDict\n",
    "from langgraph.graph import START, END, StateGraph\n",
    "\n",
    "from typing import Annotated\n",
    "from langgraph.graph.message import add_messages\n"
   ]
  },
  {
   "cell_type": "code",
   "execution_count": null,
   "id": "e8770755",
   "metadata": {},
   "outputs": [],
   "source": [
    "class State(TypedDict):\n",
    "    messages: Annotated[list, add_messages]"
   ]
  },
  {
   "cell_type": "code",
   "execution_count": 5,
   "id": "45edb8da",
   "metadata": {},
   "outputs": [],
   "source": [
    "import os\n",
    "from dotenv import load_dotenv\n",
    "from langchain_openai import ChatOpenAI\n",
    "\n",
    "load_dotenv()\n",
    "\n",
    "os.environ['OPENAI_API_KEY'] = os.getenv('OPENAI_API_KEY')\n",
    "\n",
    "llm = ChatOpenAI(\n",
    "    model='gpt-5-mini-2025-08-07'\n",
    ")"
   ]
  },
  {
   "cell_type": "code",
   "execution_count": 6,
   "id": "952c4b44",
   "metadata": {},
   "outputs": [],
   "source": [
    "def superbot(state:State):\n",
    "    return {\"messages\": [llm.invoke(state['messages'])]}"
   ]
  },
  {
   "cell_type": "code",
   "execution_count": 7,
   "id": "1085bedf",
   "metadata": {},
   "outputs": [],
   "source": [
    "graph = StateGraph(State)\n",
    "\n",
    "graph.add_node(\"SuperBot\", superbot)\n",
    "\n",
    "graph.add_edge(START, \"SuperBot\")\n",
    "\n",
    "graph.add_edge(\"SuperBot\", END)\n",
    "\n",
    "graph_builder = graph.compile()\n"
   ]
  },
  {
   "cell_type": "code",
   "execution_count": 8,
   "id": "39573a40",
   "metadata": {},
   "outputs": [
    {
     "data": {
      "image/png": "[encoded data removed]",
      "text/plain": [
       "<IPython.core.display.Image object>"
      ]
     },
     "metadata": {},
     "output_type": "display_data"
    }
   ],
   "source": [
    "from IPython.display import display, Image\n",
    "\n",
    "display(Image(graph_builder.get_graph().draw_mermaid_png()))\n"
   ]
  },
  {
   "cell_type": "code",
   "execution_count": 9,
   "id": "d37ecdc7",
   "metadata": {},
   "outputs": [
    {
     "data": {
      "text/plain": [
       "{'messages': [HumanMessage(content='Hi My name is Suriyaa and I am a management consultant who is aspiring to make a mark in AI', additional_kwargs={}, response_metadata={}, id='8f545da6-0f72-4534-9fcc-a81945543a1a'),\n",
       "  AIMessage(content='Nice to meet you, Suriyaa — and congrats on choosing a powerful direction. As a management consultant, you already have high-value skills (problem framing, stakeholder management, ROI thinking) that map very well into AI-enabled transformations. I can help you with a tailored plan, learning resources, project ideas, resume/LinkedIn wording, or a go-to-market approach for AI consulting. To start, here are practical, high-impact steps and resources you can use right away.\\n\\nQuick questions so I can personalize this:\\n- What’s your technical background (programming, data analytics, statistics)?\\n- Which industries or clients do you currently work with/want to focus on?\\n- Do you want to be a strategy-focused AI advisor, a hands-on implementer, or both?\\n- Timeline/goal (e.g., get AI-ready in 3 months, land X client, move into an internal AI role)?\\n\\nRoadmap — 30/60/90 day framework\\n- 0–30 days: Foundations and positioning\\n  - Learn core concepts: supervised learning, generative AI, model performance, deployment basics, and ethical/regulatory issues.\\n  - Recommended short courses: Andrew Ng’s “AI For Everyone” (strategy level), “Machine Learning” (technical) or “Deep Learning Specialization” on Coursera; fast.ai Practical Deep Learning for coders (if you code); Hugging Face course (NLP & LLMs).\\n  - Tools: Python basics (pandas, matplotlib), scikit-learn, Jupyter, Git. If non-technical role: familiarize with APIs (OpenAI, Hugging Face) and no-code platforms (LlamaIndex, DataRobot, Cognition Studio).\\n  - Positioning: refine your value proposition for clients — what problems you can quickly help solve (cost reduction, process automation, revenue uplift, decision support).\\n- 30–60 days: Hands-on projects and consulting approach\\n  - Build 1–2 small, demonstrable POCs: e.g., customer-churn model, expense categorization with an LLM, or an automated reporting chatbot.\\n  - Learn model evaluation, data requirements, and explainability basics.\\n  - Create consulting artifacts: AI readiness checklist, use-case prioritization matrix (value vs feasibility), pilot-to-scale playbook.\\n  - Begin documenting case studies and uploading code/notebooks to GitHub (if technical).\\n- 60–90 days: Go-to-market and scaling\\n  - Run a client pilot or internal engagement. Use a clear hypothesis, KPI baseline, success criteria, and rollback plan.\\n  - Build repeatable offerings (workshops, readiness assessments, rapid POC packages).\\n  - Publish a case study or short article on LinkedIn; present at a meetup or webinar.\\n  - Expand network: partner with solution engineers at cloud/AI vendors, join AI consulting forums, and meetups.\\n\\nCore skills to develop (prioritize based on role)\\n- Non-technical/strategic: AI opportunity framing, ROI modeling, data governance, vendor selection, ethics and compliance, change management.\\n- Technical/implementation: Python, data wrangling, ML model lifecycle, deployment (APIs, containers), LLM prompt engineering, LangChain, Hugging Face, MLOps basics.\\n- Hybrid: translating business requirements into measurable ML use cases, specifying data needs, evaluating ML vendors and architectures.\\n\\nPractical project ideas to build credibility\\n- Customer-support chatbot using an LLM + RAG (retrieval-augmented generation) for internal knowledge bases.\\n- Sales opportunity scoring model using classical ML; demonstrate lift vs baseline.\\n- Automated invoice/expense processing pipeline (OCR + classification).\\n- Market-entry scenario analysis using demand forecasting or scenario-simulating LLM prompts.\\n- “AI Readiness” assessment engagement with deliverables: maturity score, prioritized use-case roadmap, cost/benefit estimates.\\n\\nConsulting playbook highlights (how to sell and deliver AI work)\\n- Start with outcome, not tech. Quantify current pain and target KPI improvements.\\n- Use a rapid, risk-managed pilot approach: prototype fast, measure short-term impact, then scale.\\n- Include data owners and IT/Cloud early — data availability is usually the gating factor.\\n- Build transparent ROI and governance: explainability, model monitoring, and fallback plans.\\n- Package repeatable offerings (workshop, 2-week POC, uplift measurement).\\n\\nTools and platforms to learn\\n- Languages: Python\\n- Libraries: pandas, scikit-learn, PyTorch or TensorFlow, Hugging Face Transformers, LangChain\\n- LLMs/APIs: OpenAI, Anthropic, Hugging Face Inference\\n- MLOps/Deployment: Docker, Kubernetes basics, MLflow, Weights & Biases, cloud ML services (GCP/AWS/Azure)\\n- No-code/low-code: DataRobot, Peltarion, Microsoft Power Platform (for enterprise clients)\\n\\nResources and credentials\\n- Courses: Coursera (Andrew Ng), fast.ai, Hugging Face course\\n- Books: “Prediction Machines” (for strategy), “Designing Data-Intensive Applications” (system design depth), “You Look Like a Thing and I Love You” (AI intuition)\\n- Certifications (optional): Google Professional ML Engineer, Azure AI Engineer, or vendor partner programs\\n- Communities: Hugging Face forums, local AI meetups, LinkedIn groups, conferences (ODSC, NeurIPS/industry tracks, local CxO events)\\n\\nHow I can help next\\n- Draft a 90-day personalized learning + project plan based on your background and goals.\\n- Create client-ready templates: AI readiness checklist, use-case prioritization matrix, pilot contract scope, ROI calculator.\\n- Write LinkedIn summary / resume bullets highlighting AI strategy + consulting strengths.\\n- Design an outline for a specific pilot or case study you want to build.\\n\\nTell me which of the above you want me to help with first (personalized plan, templates, LinkedIn/resume, or a project outline), and share your background and target role/industry if you want a tailored plan.', additional_kwargs={'refusal': None}, response_metadata={'token_usage': {'completion_tokens': 1636, 'prompt_tokens': 28, 'total_tokens': 1664, 'completion_tokens_details': {'accepted_prediction_tokens': 0, 'audio_tokens': 0, 'reasoning_tokens': 384, 'rejected_prediction_tokens': 0}, 'prompt_tokens_details': {'audio_tokens': 0, 'cached_tokens': 0}}, 'model_name': 'gpt-5-mini-2025-08-07', 'system_fingerprint': None, 'id': 'chatcmpl-CIfHrMBy6Bj7CX6aeUJqxlXrgirMJ', 'service_tier': 'default', 'finish_reason': 'stop', 'logprobs': None}, id='run--f46374e1-6a79-4bad-93f8-f63ab0ddc2b3-0', usage_metadata={'input_tokens': 28, 'output_tokens': 1636, 'total_tokens': 1664, 'input_token_details': {'audio': 0, 'cache_read': 0}, 'output_token_details': {'audio': 0, 'reasoning': 384}})]}"
      ]
     },
     "execution_count": 9,
     "metadata": {},
     "output_type": "execute_result"
    }
   ],
   "source": [
    "graph_builder.invoke({'messages': \"Hi My name is Suriyaa and I am a management consultant who is aspiring to make a mark in AI\"})"
   ]
  },
  {
   "cell_type": "markdown",
   "id": "ddab2343",
   "metadata": {},
   "source": [
    "#### Streaming The responses"
   ]
  },
  {
   "cell_type": "code",
   "execution_count": null,
   "id": "d3df0f50",
   "metadata": {},
   "outputs": [
    {
     "name": "stdout",
     "output_type": "stream",
     "text": [
      "{'messages': [HumanMessage(content='Hello my name is Suriyaa', additional_kwargs={}, response_metadata={}, id='3cf4180f-b3c5-4ed7-bd44-ebc1472b799b')]}\n",
      "{'messages': [HumanMessage(content='Hello my name is Suriyaa', additional_kwargs={}, response_metadata={}, id='3cf4180f-b3c5-4ed7-bd44-ebc1472b799b'), AIMessage(content='Hello Suriyaa — nice to meet you! How can I help you today?', additional_kwargs={'refusal': None}, response_metadata={'token_usage': {'completion_tokens': 90, 'prompt_tokens': 13, 'total_tokens': 103, 'completion_tokens_details': {'accepted_prediction_tokens': 0, 'audio_tokens': 0, 'reasoning_tokens': 64, 'rejected_prediction_tokens': 0}, 'prompt_tokens_details': {'audio_tokens': 0, 'cached_tokens': 0}}, 'model_name': 'gpt-5-mini-2025-08-07', 'system_fingerprint': None, 'id': 'chatcmpl-CIfOBIUYEADPtWa2Nxx0nWcHXMprR', 'service_tier': 'default', 'finish_reason': 'stop', 'logprobs': None}, id='run--08164236-2981-47de-b100-517f174eea00-0', usage_metadata={'input_tokens': 13, 'output_tokens': 90, 'total_tokens': 103, 'input_token_details': {'audio': 0, 'cache_read': 0}, 'output_token_details': {'audio': 0, 'reasoning': 64}})]}\n"
     ]
    }
   ],
   "source": [
    "for event in graph_builder.stream({'messages': \"Hi My name is Suriyaa and I am a management consultant who is aspiring to make a mark in AI\"}, stream_mode=\"values\"):\n",
    "    print(event)"
   ]
  }
 ],
 "metadata": {
  "kernelspec": {
   "display_name": "venv",
   "language": "python",
   "name": "python3"
  },
  "language_info": {
   "codemirror_mode": {
    "name": "ipython",
    "version": 3
   },
   "file_extension": ".py",
   "mimetype": "text/x-python",
   "name": "python",
   "nbconvert_exporter": "python",
   "pygments_lexer": "ipython3",
   "version": "3.13.1"
  }
 },
 "nbformat": 4,
 "nbformat_minor": 5
}
