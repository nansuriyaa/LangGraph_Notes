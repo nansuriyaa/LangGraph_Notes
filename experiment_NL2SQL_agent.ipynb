{
 "cells": [
  {
   "cell_type": "code",
   "execution_count": 10,
   "id": "9b8f7828",
   "metadata": {},
   "outputs": [
    {
     "data": {
      "text/plain": [
       "True"
      ]
     },
     "execution_count": 10,
     "metadata": {},
     "output_type": "execute_result"
    }
   ],
   "source": [
    "import os\n",
    "from dotenv import load_dotenv\n",
    "\n",
    "load_dotenv(override=True)"
   ]
  },
  {
   "cell_type": "code",
   "execution_count": 11,
   "id": "2ead2116",
   "metadata": {},
   "outputs": [
    {
     "name": "stdout",
     "output_type": "stream",
     "text": [
      "postgresql\n",
      "['iron_ore_blocks']\n",
      "\n",
      "CREATE TABLE iron_ore_blocks (\n",
      "\t\"sl._no\" BIGINT, \n",
      "\tstate TEXT, \n",
      "\tblock_name TEXT, \n",
      "\tgreenfield_or_brownfield TEXT, \n",
      "\tstatus_of_blocks TEXT, \n",
      "\ttype_of_block TEXT, \n",
      "\tmineral TEXT, \n",
      "\tname_of_bidder TEXT, \n",
      "\tlease_area DOUBLE PRECISION, \n",
      "\treserve_mt TEXT, \n",
      "\tfpo DOUBLE PRECISION, \n",
      "\tdate_of_auction DATE, \n",
      "\tdate_of_loi_issuance DATE, \n",
      "\tfy_expiry TEXT\n",
      ")\n",
      "\n",
      "/*\n",
      "3 rows from iron_ore_blocks table:\n",
      "sl._no\tstate\tblock_name\tgreenfield_or_brownfield\tstatus_of_blocks\ttype_of_block\tmineral\tname_of_bidder\tlease_area\treserve_mt\tfpo\tdate_of_auction\tdate_of_loi_issuance\tfy_expiry\n",
      "1\tAndhra Pradesh\tAddankivaripalem\tGreenfield\tDeed Executed and Exploration in Progress\tCL\tIron Ore\tJSW Steel Ltd.\tNone\tNone\t14.4\t2023-07-28\t2023-05-09\t2024-25\n",
      "2\tMaharashtra\tAjgaon Block\tGreenfield\tDeed Executed and Exploration in Progress\tCL\tIron Ore\tJSW Steel Ltd.\t8.4\tNone\t25.0\t2022-03-31\tNone\t2023-24\n",
      "3\tOrissa\tBadampahar Iron Ore Block\tBrownfield\tOperationalised\tML\tIron Ore\tGM Iron & Steel Company Ltd\t129.61\t4.484\t95.15\t2020-07-01\tNone\t2025-26\n",
      "*/\n"
     ]
    },
    {
     "data": {
      "text/plain": [
       "\"[(1, 'Andhra Pradesh', 'Addankivaripalem', 'Greenfield', 'Deed Executed and Exploration in Progress', 'CL', 'Iron Ore', 'JSW Steel Ltd.', None, None, 14.4, datetime.date(2023, 7, 28), datetime.date(2023, 5, 9), '2024-25'), (2, 'Maharashtra', 'Ajgaon Block', 'Greenfield', 'Deed Executed and Exploration in Progress', 'CL', 'Iron Ore', 'JSW Steel Ltd.', 8.4, None, 25.0, datetime.date(2022, 3, 31), None, '2023-24'), (3, 'Orissa', 'Badampahar Iron Ore Block', 'Brownfield', 'Operationalised', 'ML', 'Iron Ore', 'GM Iron & Steel Company Ltd', 129.61, '4.484', 95.15, datetime.date(2020, 7, 1), None, '2025-26'), (4, 'Rajasthan', 'Bagawas', 'Brownfield', 'In process of revocation', 'ML', 'Iron Ore', 'Subhash Lohiya, Propo. M/s Bharat Coal Traders, Punjab', 5.9266, '0.58', 452.0, datetime.date(2022, 7, 29), datetime.date(2023, 4, 4), '2028-29'), (5, 'Chhattisgarh', 'Bailadila Deposit 01A Iron Ore Block', 'Greenfield', 'Pending with bidder - SOP/NOC', 'CL', 'Iron Ore', 'M/s ArcelorMittal\\\\n Nippon Steel India\\\\n Pvt. Ltd.', 850.0, '55.23', 151.3, datetime.date(2025, 3, 24), None, '2026-27'), (6, 'Chhattisgarh', 'Bailadila Deposit 01B Iron Ore Block', 'Greenfield', 'Pending with bidder - SOP/NOC', 'CL', 'Iron Ore', 'M/s ArcelorMittal\\\\n Nippon Steel India\\\\n Pvt. Ltd.', 850.0, '103.25', 157.5, datetime.date(2025, 3, 26), None, '2030-31'), (7, 'Chhattisgarh', 'Bailadila Deposit 01C Iron Ore Block', 'Greenfield', 'Pending with bidder - SOP/NOC', 'CL', 'Iron Ore', 'M/s Rungta Sons\\\\n Pvt. Ltd.', 825.0, '129.93', 152.0, datetime.date(2025, 3, 27), None, '2030-31'), (8, 'Madhya Pradesh', 'Bajna Iron Ore', 'Greenfield', 'EC & FC Pendency', 'ML', 'Iron Ore', 'Sunflag Iron & Steel Company Ltd.', 96.0, '38.81', 74.05, datetime.date(2022, 7, 26), datetime.date(2022, 7, 11), '2027-28'), (9, 'Orissa', 'Balda Iron Ore Block', 'Brownfield', 'Operationalised', 'ML', 'Iron Ore', 'Serajuddin & Co.', 343.981, '200.11', 118.1, datetime.date(2020, 2, 3), datetime.date(2020, 2, 3), '2024-25'), (10, 'Jharkhand', 'Baraiburu - Tatiba Iron and Manganese Ore Block', 'Greenfield', 'FC Pendency', 'CL', 'Iron and Manganese Ore', 'M/s Rungta Mines', 258.99, 'Fe – 77.85 Mn- 3.61', None, datetime.date(2023, 8, 18), None, '2026-27')]\""
      ]
     },
     "execution_count": 11,
     "metadata": {},
     "output_type": "execute_result"
    }
   ],
   "source": [
    "from langchain_community.utilities import SQLDatabase\n",
    "\n",
    "database_url = os.getenv('DB_URL')\n",
    "\n",
    "db = SQLDatabase.from_uri(database_url)\n",
    "print(db.dialect)\n",
    "print(db.get_usable_table_names())\n",
    "print(db.get_table_info())\n",
    "db.run(\"SELECT * FROM iron_ore_blocks LIMIT 10;\")"
   ]
  },
  {
   "cell_type": "code",
   "execution_count": 12,
   "id": "85e74bbd",
   "metadata": {},
   "outputs": [],
   "source": [
    "from langchain_openai import ChatOpenAI\n",
    "\n",
    "llm = ChatOpenAI(\n",
    "    model='gpt-5-mini-2025-08-07'\n",
    ")"
   ]
  },
  {
   "cell_type": "code",
   "execution_count": 13,
   "id": "9e42a4e4",
   "metadata": {},
   "outputs": [
    {
     "data": {
      "text/plain": [
       "[QuerySQLDatabaseTool(description=\"Input to this tool is a detailed and correct SQL query, output is a result from the database. If the query is not correct, an error message will be returned. If an error is returned, rewrite the query, check the query, and try again. If you encounter an issue with Unknown column 'xxxx' in 'field list', use sql_db_schema to query the correct table fields.\", db=<langchain_community.utilities.sql_database.SQLDatabase object at 0x137b302d0>),\n",
       " InfoSQLDatabaseTool(description='Input to this tool is a comma-separated list of tables, output is the schema and sample rows for those tables. Be sure that the tables actually exist by calling sql_db_list_tables first! Example Input: table1, table2, table3', db=<langchain_community.utilities.sql_database.SQLDatabase object at 0x137b302d0>),\n",
       " ListSQLDatabaseTool(db=<langchain_community.utilities.sql_database.SQLDatabase object at 0x137b302d0>),\n",
       " QuerySQLCheckerTool(description='Use this tool to double check if your query is correct before executing it. Always use this tool before executing a query with sql_db_query!', db=<langchain_community.utilities.sql_database.SQLDatabase object at 0x137b302d0>, llm=ChatOpenAI(client=<openai.resources.chat.completions.completions.Completions object at 0x137b32850>, async_client=<openai.resources.chat.completions.completions.AsyncCompletions object at 0x137b32c10>, root_client=<openai.OpenAI object at 0x137b325d0>, root_async_client=<openai.AsyncOpenAI object at 0x137b32990>, model_name='gpt-5-mini-2025-08-07', model_kwargs={}, openai_api_key=SecretStr('**********')), llm_chain=LLMChain(verbose=False, prompt=PromptTemplate(input_variables=['dialect', 'query'], input_types={}, partial_variables={}, template='\\n{query}\\nDouble check the {dialect} query above for common mistakes, including:\\n- Using NOT IN with NULL values\\n- Using UNION when UNION ALL should have been used\\n- Using BETWEEN for exclusive ranges\\n- Data type mismatch in predicates\\n- Properly quoting identifiers\\n- Using the correct number of arguments for functions\\n- Casting to the correct data type\\n- Using the proper columns for joins\\n\\nIf there are any of the above mistakes, rewrite the query. If there are no mistakes, just reproduce the original query.\\n\\nOutput the final SQL query only.\\n\\nSQL Query: '), llm=ChatOpenAI(client=<openai.resources.chat.completions.completions.Completions object at 0x137b32850>, async_client=<openai.resources.chat.completions.completions.AsyncCompletions object at 0x137b32c10>, root_client=<openai.OpenAI object at 0x137b325d0>, root_async_client=<openai.AsyncOpenAI object at 0x137b32990>, model_name='gpt-5-mini-2025-08-07', model_kwargs={}, openai_api_key=SecretStr('**********')), output_parser=StrOutputParser(), llm_kwargs={}))]"
      ]
     },
     "execution_count": 13,
     "metadata": {},
     "output_type": "execute_result"
    }
   ],
   "source": [
    "from langchain_community.agent_toolkits import SQLDatabaseToolkit\n",
    "\n",
    "toolkit = SQLDatabaseToolkit(db=db, llm=llm)\n",
    "\n",
    "tools = toolkit.get_tools()\n",
    "\n",
    "tools"
   ]
  },
  {
   "cell_type": "code",
   "execution_count": 14,
   "id": "e745b57e",
   "metadata": {},
   "outputs": [],
   "source": [
    "system_message = \"\"\"\n",
    "You are an agent designed to interact with a SQL database.\n",
    "Given an input question, create a syntactically correct {dialect} query to run,\n",
    "then look at the results of the query and return the answer. Unless the user\n",
    "specifies a specific number of examples they wish to obtain, always limit your\n",
    "query to at most {top_k} results.\n",
    "\n",
    "You can order the results by a relevant column to return the most interesting\n",
    "examples in the database. Never query for all the columns from a specific table,\n",
    "only ask for the relevant columns given the question.\n",
    "\n",
    "You MUST double check your query before executing it. If you get an error while\n",
    "executing a query, rewrite the query and try again.\n",
    "\n",
    "DO NOT make any DML statements (INSERT, UPDATE, DELETE, DROP etc.) to the\n",
    "database.\n",
    "\n",
    "To start you should ALWAYS look at the tables in the database to see what you\n",
    "can query. Do NOT skip this step.\n",
    "\n",
    "Then you should query the schema of the most relevant tables.\n",
    "\"\"\".format(\n",
    "    dialect=db.dialect,\n",
    "    top_k=5,\n",
    ")"
   ]
  },
  {
   "cell_type": "code",
   "execution_count": 15,
   "id": "8f98e9f3",
   "metadata": {},
   "outputs": [],
   "source": [
    "from langchain_core.messages import HumanMessage\n",
    "from langgraph.prebuilt import create_react_agent\n",
    "\n",
    "agent_executor = create_react_agent(llm, tools, prompt=system_message)"
   ]
  },
  {
   "cell_type": "code",
   "execution_count": 16,
   "id": "2fbcd97c",
   "metadata": {},
   "outputs": [],
   "source": [
    "connection_string = os.getenv('DB_URL')"
   ]
  },
  {
   "cell_type": "code",
   "execution_count": 17,
   "id": "a41253f6",
   "metadata": {},
   "outputs": [],
   "source": [
    "def get_connection():\n",
    "    try:\n",
    "        db = SQLDatabase.from_uri(connection_string)\n",
    "        return db\n",
    "    except Exception as e:\n",
    "        st.error(f'Connection with DB failed {e}')"
   ]
  },
  {
   "cell_type": "code",
   "execution_count": 18,
   "id": "c7b8623d",
   "metadata": {},
   "outputs": [],
   "source": [
    "from langchain_core.documents import Document\n",
    "import ast\n",
    "import re\n",
    "\n",
    "def query_as_list(db, query):\n",
    "    res = db.run(query)\n",
    "    res = [el for sub in ast.literal_eval(res) for el in sub if el]\n",
    "    res = [re.sub(r\"\\b\\d+\\b\", \"\", string).strip() for string in res]\n",
    "    return list(set(res))\n",
    "\n",
    "\n",
    "\n",
    "def get_pronouns(table_name):\n",
    "    try:\n",
    "        db = get_connection()\n",
    "        query = f\"\"\"\n",
    "                SELECT \n",
    "                    column_name, \n",
    "                    data_type, \n",
    "                    is_nullable,\n",
    "                    column_default,\n",
    "                    (SELECT pg_catalog.col_description(c.oid, cols.ordinal_position::int)\n",
    "                    FROM pg_catalog.pg_class c\n",
    "                    WHERE c.oid = (SELECT ('\"' || cols.table_name || '\"')::regclass::oid)\n",
    "                        AND c.relname = cols.table_name) AS column_comment\n",
    "                FROM information_schema.columns cols\n",
    "                WHERE table_name = '{table_name}'\n",
    "        \"\"\"\n",
    "        result_str = db.run(query)\n",
    "        columns = ast.literal_eval(result_str)\n",
    "        arr_pronouns = []\n",
    "        for col in columns:\n",
    "            if col[1] == 'text':\n",
    "                col_unique_nouns = (query_as_list(db, f\"SELECT {col[0]} FROM iron_ore_blocks\"))\n",
    "                docs = [Document(page_content=i, metadata={\"table\": table_name, \"column_name\": col[0], \"column_datatype\": col[1]}) for i in col_unique_nouns]\n",
    "                arr_pronouns+=docs\n",
    "        return arr_pronouns\n",
    "    except Exception as e:\n",
    "        st.error(f\"Error getting metadata: {e}\")\n",
    "        return []\n",
    "    finally:\n",
    "        db._engine.dispose()"
   ]
  },
  {
   "cell_type": "code",
   "execution_count": 19,
   "id": "f655abc2",
   "metadata": {},
   "outputs": [],
   "source": [
    "def get_metadata(table_name):\n",
    "    try:\n",
    "        query = f\"\"\"\n",
    "                SELECT \n",
    "                    column_name, \n",
    "                    data_type, \n",
    "                    is_nullable,\n",
    "                    column_default,\n",
    "                    (SELECT pg_catalog.col_description(c.oid, cols.ordinal_position::int)\n",
    "                    FROM pg_catalog.pg_class c\n",
    "                    WHERE c.oid = (SELECT ('\"' || cols.table_name || '\"')::regclass::oid)\n",
    "                        AND c.relname = cols.table_name) AS column_comment\n",
    "                FROM information_schema.columns cols\n",
    "                WHERE table_name = '{table_name}'\n",
    "        \"\"\"\n",
    "        result_str = db.run(query)\n",
    "        columns = ast.literal_eval(result_str)\n",
    "        metadata = [\n",
    "            f\"Field: {col[0]}, Type: {col[1]}, Null: {'YES' if col[2]=='YES' else 'NO'}, \"\n",
    "            \n",
    "            f\"Default: {col[3]}, Comment: {col[4] or ''}\"\n",
    "            for col in columns\n",
    "        ]\n",
    "        return metadata\n",
    "    except Exception as e:\n",
    "        st.error(f\"Error getting metadata: {e}\")\n",
    "        return []"
   ]
  },
  {
   "cell_type": "code",
   "execution_count": null,
   "id": "b831cafd",
   "metadata": {},
   "outputs": [],
   "source": [
    "tabel_col_info = get_metadata(\"iron_ore_blocks\")"
   ]
  },
  {
   "cell_type": "code",
   "execution_count": null,
   "id": "400eef4a",
   "metadata": {},
   "outputs": [
    {
     "data": {
      "text/plain": [
       "'Field: lease_area, Type: double precision, Null: YES, Default: None, Comment: Total lease area of the iron ore block in hectares. Represents the geographical extent of the block allocated for mining.'"
      ]
     },
     "execution_count": 26,
     "metadata": {},
     "output_type": "execute_result"
    }
   ],
   "source": [
    "from langchain_core.documents import Document\n",
    "from langchain_text_splitters import RecursiveCharacterTextSplitter\n",
    "\n",
    "docs = []\n",
    "for col_info in tabel_col_info:\n",
    "    docs.append(Document(page_content=col_info))\n",
    "\n",
    "text_splitter = RecursiveCharacterTextSplitter(\n",
    "    chunk_size = 500,\n",
    "    chunk_overlap = 50\n",
    ")\n",
    "\n"
   ]
  },
  {
   "cell_type": "code",
   "execution_count": 21,
   "id": "f2ea95b3",
   "metadata": {},
   "outputs": [],
   "source": [
    "from langchain_openai.embeddings import OpenAIEmbeddings\n",
    "\n",
    "embeddings = OpenAIEmbeddings(\n",
    "    model='text-embedding-3-large'\n",
    ")"
   ]
  },
  {
   "cell_type": "code",
   "execution_count": 22,
   "id": "3a1f999b",
   "metadata": {},
   "outputs": [],
   "source": [
    "from langchain_chroma import Chroma\n",
    "\n",
    "vector_store = Chroma(\n",
    "    collection_name=\"example_collection\",\n",
    "    embedding_function=embeddings,\n",
    "    persist_directory=\"./chroma_langchain_db\",  # Where to save data locally, remove if not necessary\n",
    ")"
   ]
  },
  {
   "cell_type": "code",
   "execution_count": 23,
   "id": "1b7a2203",
   "metadata": {},
   "outputs": [],
   "source": [
    "from langchain.agents.agent_toolkits import create_retriever_tool\n",
    "import streamlit as st\n",
    "\n",
    "arr_pronouns = get_pronouns(\"iron_ore_blocks\")\n",
    "\n",
    "_ = vector_store.add_documents(arr_pronouns)\n",
    "retriever = vector_store.as_retriever(search_kwargs={\"k\": 5})\n",
    "description = (\n",
    "    \"The user might make spelling mistake on his input\"\n",
    "    \"So consider the user input as an approximate spelling\"\n",
    "    \"and try to match with retriever documents provided\"\n",
    ")\n",
    "retriever_tool = create_retriever_tool(\n",
    "    retriever,\n",
    "    name=\"search_proper_nouns\",\n",
    "    description=description,\n",
    ")"
   ]
  },
  {
   "cell_type": "code",
   "execution_count": 24,
   "id": "7f23813f",
   "metadata": {},
   "outputs": [],
   "source": [
    "# Add to system message\n",
    "suffix = (\n",
    "    \"If you need to filter on a proper noun like a Name, you must ALWAYS first look up \"\n",
    "    \"the filter value using the 'search_proper_nouns' tool! Do not try to \"\n",
    "    \"guess at the proper name - use this function to find similar ones.\"\n",
    ")\n",
    "\n",
    "system = f\"{system_message}\\n\\n{suffix}\"\n",
    "\n",
    "tools.append(retriever_tool)\n",
    "\n",
    "agent = create_react_agent(llm, tools, prompt=system)"
   ]
  },
  {
   "cell_type": "code",
   "execution_count": null,
   "id": "08a42ddc",
   "metadata": {},
   "outputs": [],
   "source": []
  }
 ],
 "metadata": {
  "kernelspec": {
   "display_name": "venv",
   "language": "python",
   "name": "python3"
  },
  "language_info": {
   "codemirror_mode": {
    "name": "ipython",
    "version": 3
   },
   "file_extension": ".py",
   "mimetype": "text/x-python",
   "name": "python",
   "nbconvert_exporter": "python",
   "pygments_lexer": "ipython3",
   "version": "3.13.1"
  }
 },
 "nbformat": 4,
 "nbformat_minor": 5
}
